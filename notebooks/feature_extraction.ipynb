import cv2
import numpy as np
import os
import matplotlib.pyplot as plt
from skimage.feature import hog, local_binary_pattern
from skimage.color import rgb2gray
from tensorflow.keras.applications import VGG16, ResNet50, MobileNet
from tensorflow.keras.applications.vgg16 import preprocess_input
from tensorflow.keras.models import Model

# Load dataset
data_path = "data/raw/"
image_size = (64, 64)

def load_images():
    images = []
    labels = []
    for category in os.listdir(data_path):
        category_path = os.path.join(data_path, category)
        for img_name in os.listdir(category_path):
            img_path = os.path.join(category_path, img_name)
            img = cv2.imread(img_path)
            img = cv2.resize(img, image_size)
            img_gray = rgb2gray(img)
            images.append(img_gray)
            labels.append(category)
    return np.array(images), np.array(labels)

X, y = load_images()

# HOG Feature Extraction
def extract_hog_features(images):
    features = [hog(img, pixels_per_cell=(8, 8), cells_per_block=(2, 2), feature_vector=True) for img in images]
    return np.array(features)

X_hog = extract_hog_features(X)

# LBP Feature Extraction
def extract_lbp_features(images, P=8, R=1):
    features = [local_binary_pattern(img, P, R).flatten() for img in images]
    return np.array(features)

X_lbp = extract_lbp_features(X)

# Edge Detection (Sobel)
def extract_edge_features(images):
    features = [cv2.Sobel(img, cv2.CV_64F, 1, 0, ksize=5).flatten() for img in images]
    return np.array(features)

X_edge = extract_edge_features(X)

# CNN Feature Extraction (VGG16)
base_model = VGG16(weights="imagenet", include_top=False, input_shape=(64, 64, 3))
model_vgg16 = Model(inputs=base_model.input, outputs=base_model.output)

def extract_deep_features(images, model):
    images_rgb = np.array([cv2.cvtColor(cv2.resize(img, (64, 64)), cv2.COLOR_GRAY2RGB) for img in images])
    images_rgb = preprocess_input(images_rgb)
    features = model.predict(images_rgb)
    return features.reshape(len(images), -1)

X_vgg16 = extract_deep_features(X, model_vgg16)

# Save extracted features
np.save("data/preprocessed/X_hog.npy", X_hog)
np.save("data/preprocessed/X_lbp.npy", X_lbp)
np.save("data/preprocessed/X_edge.npy", X_edge)
np.save("data/preprocessed/X_vgg16.npy", X_vgg16)
np.save("data/preprocessed/y.npy", y)

print("Feature extraction completed and saved.")

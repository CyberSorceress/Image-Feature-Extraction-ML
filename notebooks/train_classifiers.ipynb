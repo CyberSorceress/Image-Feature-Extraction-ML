import numpy as np
from sklearn.model_selection import train_test_split
from sklearn.linear_model import LogisticRegression
from sklearn.neighbors import KNeighborsClassifier
from sklearn.tree import DecisionTreeClassifier
from sklearn.ensemble import RandomForestClassifier
import pickle

# Load extracted features
X_hog = np.load("data/preprocessed/X_hog.npy")
X_lbp = np.load("data/preprocessed/X_lbp.npy")
X_edge = np.load("data/preprocessed/X_edge.npy")
X_vgg16 = np.load("data/preprocessed/X_vgg16.npy")
y = np.load("data/preprocessed/y.npy")

# Train and save classifiers
def train_and_save(X, feature_name):
    X_train, X_test, y_train, y_test = train_test_split(X, y, test_size=0.2, random_state=42)

    models = {
        "logistic_regression": LogisticRegression(max_iter=1000),
        "knn": KNeighborsClassifier(n_neighbors=5),
        "decision_tree": DecisionTreeClassifier(),
        "random_forest": RandomForestClassifier(n_estimators=100)
    }

    for name, model in models.items():
        model.fit(X_train, y_train)
        pickle.dump(model, open(f"models/{name}_{feature_name}.pkl", "wb"))

train_and_save(X_hog, "hog")
train_and_save(X_lbp, "lbp")
train_and_save(X_edge, "edge")
train_and_save(X_vgg16, "vgg16")

print("Models trained and saved.")
